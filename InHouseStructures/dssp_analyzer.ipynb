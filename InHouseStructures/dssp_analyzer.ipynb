{
 "cells": [
  {
   "cell_type": "code",
   "execution_count": 7,
   "metadata": {
    "collapsed": false
   },
   "outputs": [],
   "source": [
    "#import packages\n",
    "import numpy as np\n",
    "import pandas as pd\n"
   ]
  },
  {
   "cell_type": "code",
   "execution_count": 22,
   "metadata": {
    "collapsed": false
   },
   "outputs": [],
   "source": [
    "#this script is intended to split up the overview file into files with only one SS\n",
    "#config\n",
    "\n",
    "#load dssp file\n",
    "\n",
    "data = pd.read_csv('/usr/users/olivia/data/PDB/DATA_Olivia/DataSummary/masterList.csv', index_col=False)\n",
    "\n",
    "\n",
    "\n",
    "# U is undefined secondary structures\n",
    "\n",
    "dssp =data['ss'].unique()\n",
    "for s in dssp:\n",
    "    #for s in dssp:\n",
    "    # get the rows that belong to that secondary structure\n",
    "    file = data.query(f'ss== \"{s}\"')\n",
    "    #save the dataframe containing those lines to a csv file\n",
    "    file.to_csv(f'/usr/users/olivia/data/PDB/DATA_Olivia/DataSummary/{s}_overview.csv', index= False )\n",
    "\n",
    "\n",
    "\n",
    "\n",
    "\n",
    "\n",
    "\n"
   ]
  },
  {
   "cell_type": "code",
   "execution_count": null,
   "outputs": [],
   "source": [],
   "metadata": {
    "collapsed": false
   }
  }
 ],
 "metadata": {
  "kernelspec": {
   "display_name": "Python 3.10.8 64-bit (microsoft store)",
   "language": "python",
   "name": "python3"
  },
  "language_info": {
   "codemirror_mode": {
    "name": "ipython",
    "version": 3
   },
   "file_extension": ".py",
   "mimetype": "text/x-python",
   "name": "python",
   "nbconvert_exporter": "python",
   "pygments_lexer": "ipython3",
   "version": "3.10.8"
  },
  "vscode": {
   "interpreter": {
    "hash": "449056e4a45b52db97e4be0f9eb617c8f7bfc9621aa20fbcd7c2dc4aebf2696f"
   }
  }
 },
 "nbformat": 4,
 "nbformat_minor": 0
}
