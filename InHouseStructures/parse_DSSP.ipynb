{
 "cells": [
  {
   "cell_type": "code",
   "execution_count": null,
   "metadata": {
    "collapsed": true
   },
   "outputs": [],
   "source": [
    "# NOTE: This requires the DSSPData class shown in this gist: https://gist.github.com/jlhg/5181883\n",
    "import os\n",
    "\n",
    "import numpy as np\n",
    "import pandas as pd\n",
    "from multiprocessing import Process, Queue\n",
    "from DSSPData import DSSPData"
   ]
  },
  {
   "cell_type": "code",
   "execution_count": 38,
   "outputs": [],
   "source": [
    "datapath = \"/usr/users/olivia/data/PDB/DATA_Olivia/DSSP/\"\n",
    "\n",
    "def _parse(filename):\n",
    "    '''Parse a single .dssp file and return its properties.\n",
    "    Returns:\n",
    "        seq                     - str\n",
    "        secondary structures    - str\n",
    "        tco                     - list\n",
    "        kappa                   - list\n",
    "        alpha                   - list\n",
    "        phi                     - list\n",
    "        psi                     - list\n",
    "    '''\n",
    "    prot = filename[-9:-5]\n",
    "    dssp = DSSPData()\n",
    "    dssp.parseDSSP(filename)\n",
    "\n",
    "    seq = ''.join(dssp.aa)\n",
    "    structs = []\n",
    "    for i in range(len(dssp.aa)):\n",
    "        s = dssp.struct[i][2]\n",
    "        if s == ' ':\n",
    "            s = 'U'\n",
    "        structs.append(s)\n",
    "\n",
    "    ss = ''.join(structs)\n",
    "    tco = ','.join(dssp.getTCO())\n",
    "    kappa = ','.join(dssp.getKAPPA())\n",
    "    alpha = ','.join(dssp.getALPHA())\n",
    "    phi = ','.join(dssp.getPHI())\n",
    "    psi = ','.join(dssp.getPSI())\n",
    "\n",
    "\n",
    "\n",
    "    results = np.column_stack((seq, ss, tco, kappa, alpha, phi, psi))\n",
    "\n",
    "    dict = {'seq': [*seq], 'ss': [*ss], 'phi': phi.split(\",\") , 'psi': psi.split(',')}\n",
    "\n",
    "\n",
    "\n",
    "\n",
    "    df = pd.DataFrame(dict)\n",
    "\n",
    "    resultFile= f'/usr/users/olivia/data/PDB/DATA_Olivia/dssp_csv/{prot}_dssp.csv'\n",
    "    df.to_csv(resultFile, index = False)\n",
    "\n",
    "\n",
    "\n",
    "\n"
   ],
   "metadata": {
    "collapsed": false
   }
  },
  {
   "cell_type": "code",
   "execution_count": 39,
   "outputs": [],
   "source": [
    "datapath = \"/usr/users/olivia/data/PDB/DATA_Olivia/DSSP/\"\n",
    "for file in os.listdir(datapath):\n",
    "    _parse(datapath+file)\n"
   ],
   "metadata": {
    "collapsed": false
   }
  },
  {
   "cell_type": "code",
   "execution_count": null,
   "outputs": [],
   "source": [],
   "metadata": {
    "collapsed": false
   }
  }
 ],
 "metadata": {
  "kernelspec": {
   "display_name": "Python 3",
   "language": "python",
   "name": "python3"
  },
  "language_info": {
   "codemirror_mode": {
    "name": "ipython",
    "version": 2
   },
   "file_extension": ".py",
   "mimetype": "text/x-python",
   "name": "python",
   "nbconvert_exporter": "python",
   "pygments_lexer": "ipython2",
   "version": "2.7.6"
  }
 },
 "nbformat": 4,
 "nbformat_minor": 0
}
